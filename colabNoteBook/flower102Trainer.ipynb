{
 "cells": [
  {
   "cell_type": "code",
   "execution_count": 19,
   "id": "0975864b-bfef-4477-9095-0879c0cc4e0f",
   "metadata": {},
   "outputs": [
    {
     "name": "stdout",
     "output_type": "stream",
     "text": [
      "Note: you may need to restart the kernel to use updated packages.\n",
      "Requirement already satisfied: timm in /usr/local/Cellar/jupyterlab/4.1.6_1/libexec/lib/python3.12/site-packages (0.9.16)\n",
      "Requirement already satisfied: torch in /usr/local/Cellar/jupyterlab/4.1.6_1/libexec/lib/python3.12/site-packages (from timm) (2.2.2)\n",
      "Requirement already satisfied: torchvision in /usr/local/Cellar/jupyterlab/4.1.6_1/libexec/lib/python3.12/site-packages (from timm) (0.17.2)\n",
      "Requirement already satisfied: pyyaml in /usr/local/Cellar/jupyterlab/4.1.6_1/libexec/lib/python3.12/site-packages (from timm) (6.0.1)\n",
      "Requirement already satisfied: huggingface_hub in /usr/local/Cellar/jupyterlab/4.1.6_1/libexec/lib/python3.12/site-packages (from timm) (0.23.0)\n",
      "Requirement already satisfied: safetensors in /usr/local/Cellar/jupyterlab/4.1.6_1/libexec/lib/python3.12/site-packages (from timm) (0.4.3)\n",
      "Requirement already satisfied: filelock in /usr/local/Cellar/jupyterlab/4.1.6_1/libexec/lib/python3.12/site-packages (from huggingface_hub->timm) (3.14.0)\n",
      "Requirement already satisfied: fsspec>=2023.5.0 in /usr/local/Cellar/jupyterlab/4.1.6_1/libexec/lib/python3.12/site-packages (from huggingface_hub->timm) (2024.3.1)\n",
      "Requirement already satisfied: packaging>=20.9 in /usr/local/Cellar/jupyterlab/4.1.6_1/libexec/lib/python3.12/site-packages (from huggingface_hub->timm) (24.0)\n",
      "Requirement already satisfied: requests in /usr/local/Cellar/jupyterlab/4.1.6_1/libexec/lib/python3.12/site-packages (from huggingface_hub->timm) (2.31.0)\n",
      "Requirement already satisfied: tqdm>=4.42.1 in /usr/local/Cellar/jupyterlab/4.1.6_1/libexec/lib/python3.12/site-packages (from huggingface_hub->timm) (4.66.4)\n",
      "Requirement already satisfied: typing-extensions>=3.7.4.3 in /usr/local/Cellar/jupyterlab/4.1.6_1/libexec/lib/python3.12/site-packages (from huggingface_hub->timm) (4.11.0)\n",
      "Requirement already satisfied: sympy in /usr/local/Cellar/jupyterlab/4.1.6_1/libexec/lib/python3.12/site-packages (from torch->timm) (1.12)\n",
      "Requirement already satisfied: networkx in /usr/local/Cellar/jupyterlab/4.1.6_1/libexec/lib/python3.12/site-packages (from torch->timm) (3.3)\n",
      "Requirement already satisfied: jinja2 in /usr/local/Cellar/jupyterlab/4.1.6_1/libexec/lib/python3.12/site-packages (from torch->timm) (3.1.3)\n",
      "Requirement already satisfied: numpy in /usr/local/Cellar/jupyterlab/4.1.6_1/libexec/lib/python3.12/site-packages (from torchvision->timm) (1.26.4)\n",
      "Requirement already satisfied: pillow!=8.3.*,>=5.3.0 in /usr/local/Cellar/jupyterlab/4.1.6_1/libexec/lib/python3.12/site-packages (from torchvision->timm) (10.3.0)\n",
      "Requirement already satisfied: MarkupSafe>=2.0 in /usr/local/Cellar/jupyterlab/4.1.6_1/libexec/lib/python3.12/site-packages (from jinja2->torch->timm) (2.1.5)\n",
      "Requirement already satisfied: charset-normalizer<4,>=2 in /usr/local/Cellar/jupyterlab/4.1.6_1/libexec/lib/python3.12/site-packages (from requests->huggingface_hub->timm) (3.3.2)\n",
      "Requirement already satisfied: idna<4,>=2.5 in /usr/local/Cellar/jupyterlab/4.1.6_1/libexec/lib/python3.12/site-packages (from requests->huggingface_hub->timm) (3.7)\n",
      "Requirement already satisfied: urllib3<3,>=1.21.1 in /usr/local/Cellar/jupyterlab/4.1.6_1/libexec/lib/python3.12/site-packages (from requests->huggingface_hub->timm) (2.2.1)\n",
      "Requirement already satisfied: certifi>=2017.4.17 in /usr/local/opt/certifi/lib/python3.12/site-packages (from requests->huggingface_hub->timm) (2024.2.2)\n",
      "Requirement already satisfied: mpmath>=0.19 in /usr/local/Cellar/jupyterlab/4.1.6_1/libexec/lib/python3.12/site-packages (from sympy->torch->timm) (1.3.0)\n",
      "Note: you may need to restart the kernel to use updated packages.\n"
     ]
    }
   ],
   "source": [
    "%pip install -Uqq fastai\n",
    "%pip install timm\n",
    "from fastai.vision.all import *\n",
    "from pathlib import Path\n",
    "import pandas as pd\n",
    "import os \n",
    "import shutil\n",
    "import timm"
   ]
  },
  {
   "cell_type": "code",
   "execution_count": 12,
   "id": "f4ce05a3-f45b-406b-a82c-031b3a059bc6",
   "metadata": {},
   "outputs": [
    {
     "data": {
      "text/plain": [
       "(#4) [Path('/Users/bashaar/.fastai/data/oxford-102-flowers/train.txt'),Path('/Users/bashaar/.fastai/data/oxford-102-flowers/jpg'),Path('/Users/bashaar/.fastai/data/oxford-102-flowers/valid.txt'),Path('/Users/bashaar/.fastai/data/oxford-102-flowers/test.txt')]"
      ]
     },
     "execution_count": 12,
     "metadata": {},
     "output_type": "execute_result"
    }
   ],
   "source": [
    "path = untar_data(URLs.FLOWERS)\n",
    "path.ls()"
   ]
  },
  {
   "cell_type": "code",
   "execution_count": 13,
   "id": "2a1e106f-4d65-4b69-8ff8-247d49a00554",
   "metadata": {},
   "outputs": [
    {
     "name": "stdout",
     "output_type": "stream",
     "text": [
      "{0: 'pink primrose', 1: 'hard-leaved pocket orchid', 2: 'canterbury bells', 3: 'sweet pea', 4: 'english marigold', 5: 'tiger lily', 6: 'moon orchid', 7: 'bird of paradise', 8: 'monkshood', 9: 'globe thistle', 10: 'snapdragon', 11: \"colt's foot\", 12: 'king protea', 13: 'spear thistle', 14: 'yellow iris', 15: 'globe-flower', 16: 'purple coneflower', 17: 'peruvian lily', 18: 'balloon flower', 19: 'giant white arum lily', 20: 'fire lily', 21: 'pincushion flower', 22: 'fritillary', 23: 'red ginger', 24: 'grape hyacinth', 25: 'corn poppy', 26: 'prince of wales feathers', 27: 'stemless gentian', 28: 'artichoke', 29: 'sweet william', 30: 'carnation', 31: 'garden phlox', 32: 'love in the mist', 33: 'mexican aster', 34: 'alpine sea holly', 35: 'ruby-lipped cattleya', 36: 'cape flower', 37: 'great masterwort', 38: 'siam tulip', 39: 'lenten rose', 40: 'barbeton daisy', 41: 'daffodil', 42: 'sword lily', 43: 'poinsettia', 44: 'bolero deep blue', 45: 'wallflower', 46: 'marigold', 47: 'buttercup', 48: 'oxeye daisy', 49: 'common dandelion', 50: 'petunia', 51: 'wild pansy', 52: 'primula', 53: 'sunflower', 54: 'pelargonium', 55: 'bishop of llandaff', 56: 'gaura', 57: 'geranium', 58: 'orange dahlia', 59: 'pink-yellow dahlia', 60: 'cautleya spicata', 61: 'japanese anemone', 62: 'black-eyed susan', 63: 'silverbush', 64: 'californian poppy', 65: 'osteospermum', 66: 'spring crocus', 67: 'bearded iris', 68: 'windflower', 69: 'tree poppy', 70: 'gazania', 71: 'azalea', 72: 'water lily', 73: 'rose', 74: 'thorn apple', 75: 'morning glory', 76: 'passion flower', 77: 'lotus lotus', 78: 'toad lily', 79: 'anthurium', 80: 'frangipani', 81: 'clematis', 82: 'hibiscus', 83: 'columbine', 84: 'desert-rose', 85: 'tree mallow', 86: 'magnolia', 87: 'cyclamen', 88: 'watercress', 89: 'canna lily', 90: 'hippeastrum', 91: 'bee balm', 92: 'ball moss', 93: 'foxglove', 94: 'bougainvillea', 95: 'camellia', 96: 'mallow', 97: 'mexican petunia', 98: 'bromelia', 99: 'blanket flower', 100: 'trumpet creeper', 101: 'blackberry lily'}\n"
     ]
    }
   ],
   "source": [
    "flower_df = pd.read_csv('oxford_flower_102_name.csv', header=0)\n",
    "\n",
    "flower_index_dict = flower_df.set_index('Index').to_dict()['Name']\n",
    "print(flower_index_dict)"
   ]
  },
  {
   "cell_type": "code",
   "execution_count": 14,
   "id": "9a25b3a6-695d-4c96-8274-a7e8ac5a8670",
   "metadata": {},
   "outputs": [
    {
     "name": "stdout",
     "output_type": "stream",
     "text": [
      "(1020, 4)\n"
     ]
    },
    {
     "data": {
      "text/html": [
       "<div>\n",
       "<style scoped>\n",
       "    .dataframe tbody tr th:only-of-type {\n",
       "        vertical-align: middle;\n",
       "    }\n",
       "\n",
       "    .dataframe tbody tr th {\n",
       "        vertical-align: top;\n",
       "    }\n",
       "\n",
       "    .dataframe thead th {\n",
       "        text-align: right;\n",
       "    }\n",
       "</style>\n",
       "<table border=\"1\" class=\"dataframe\">\n",
       "  <thead>\n",
       "    <tr style=\"text-align: right;\">\n",
       "      <th></th>\n",
       "      <th>fname</th>\n",
       "      <th>index</th>\n",
       "      <th>is_valid</th>\n",
       "      <th>label</th>\n",
       "    </tr>\n",
       "  </thead>\n",
       "  <tbody>\n",
       "    <tr>\n",
       "      <th>0</th>\n",
       "      <td>jpg/image_03860.jpg</td>\n",
       "      <td>16</td>\n",
       "      <td>False</td>\n",
       "      <td>purple coneflower</td>\n",
       "    </tr>\n",
       "    <tr>\n",
       "      <th>1</th>\n",
       "      <td>jpg/image_06092.jpg</td>\n",
       "      <td>13</td>\n",
       "      <td>False</td>\n",
       "      <td>spear thistle</td>\n",
       "    </tr>\n",
       "    <tr>\n",
       "      <th>2</th>\n",
       "      <td>jpg/image_02400.jpg</td>\n",
       "      <td>42</td>\n",
       "      <td>False</td>\n",
       "      <td>sword lily</td>\n",
       "    </tr>\n",
       "    <tr>\n",
       "      <th>3</th>\n",
       "      <td>jpg/image_02852.jpg</td>\n",
       "      <td>55</td>\n",
       "      <td>False</td>\n",
       "      <td>bishop of llandaff</td>\n",
       "    </tr>\n",
       "    <tr>\n",
       "      <th>4</th>\n",
       "      <td>jpg/image_07710.jpg</td>\n",
       "      <td>96</td>\n",
       "      <td>False</td>\n",
       "      <td>mallow</td>\n",
       "    </tr>\n",
       "  </tbody>\n",
       "</table>\n",
       "</div>"
      ],
      "text/plain": [
       "                 fname  index  is_valid               label\n",
       "0  jpg/image_03860.jpg     16     False   purple coneflower\n",
       "1  jpg/image_06092.jpg     13     False       spear thistle\n",
       "2  jpg/image_02400.jpg     42     False          sword lily\n",
       "3  jpg/image_02852.jpg     55     False  bishop of llandaff\n",
       "4  jpg/image_07710.jpg     96     False              mallow"
      ]
     },
     "execution_count": 14,
     "metadata": {},
     "output_type": "execute_result"
    }
   ],
   "source": [
    "df = pd.read_csv(f'{path}/train.txt',sep=' ',names = ['fname','index'])\n",
    "df['is_valid'] = False\n",
    "df['label'] = df['index'].map(flower_index_dict)\n",
    "\n",
    "print(df.shape)\n",
    "\n",
    "df.head()"
   ]
  },
  {
   "cell_type": "code",
   "execution_count": 15,
   "id": "ed1de674-1bb9-4377-a270-c0b97e60aa49",
   "metadata": {},
   "outputs": [
    {
     "name": "stdout",
     "output_type": "stream",
     "text": [
      "(1020, 4)\n"
     ]
    },
    {
     "data": {
      "text/html": [
       "<div>\n",
       "<style scoped>\n",
       "    .dataframe tbody tr th:only-of-type {\n",
       "        vertical-align: middle;\n",
       "    }\n",
       "\n",
       "    .dataframe tbody tr th {\n",
       "        vertical-align: top;\n",
       "    }\n",
       "\n",
       "    .dataframe thead th {\n",
       "        text-align: right;\n",
       "    }\n",
       "</style>\n",
       "<table border=\"1\" class=\"dataframe\">\n",
       "  <thead>\n",
       "    <tr style=\"text-align: right;\">\n",
       "      <th></th>\n",
       "      <th>fname</th>\n",
       "      <th>index</th>\n",
       "      <th>is_valid</th>\n",
       "      <th>label</th>\n",
       "    </tr>\n",
       "  </thead>\n",
       "  <tbody>\n",
       "    <tr>\n",
       "      <th>0</th>\n",
       "      <td>jpg/image_04467.jpg</td>\n",
       "      <td>89</td>\n",
       "      <td>True</td>\n",
       "      <td>canna lily</td>\n",
       "    </tr>\n",
       "    <tr>\n",
       "      <th>1</th>\n",
       "      <td>jpg/image_07129.jpg</td>\n",
       "      <td>44</td>\n",
       "      <td>True</td>\n",
       "      <td>bolero deep blue</td>\n",
       "    </tr>\n",
       "    <tr>\n",
       "      <th>2</th>\n",
       "      <td>jpg/image_05166.jpg</td>\n",
       "      <td>4</td>\n",
       "      <td>True</td>\n",
       "      <td>english marigold</td>\n",
       "    </tr>\n",
       "    <tr>\n",
       "      <th>3</th>\n",
       "      <td>jpg/image_07002.jpg</td>\n",
       "      <td>34</td>\n",
       "      <td>True</td>\n",
       "      <td>alpine sea holly</td>\n",
       "    </tr>\n",
       "    <tr>\n",
       "      <th>4</th>\n",
       "      <td>jpg/image_02007.jpg</td>\n",
       "      <td>79</td>\n",
       "      <td>True</td>\n",
       "      <td>anthurium</td>\n",
       "    </tr>\n",
       "  </tbody>\n",
       "</table>\n",
       "</div>"
      ],
      "text/plain": [
       "                 fname  index  is_valid             label\n",
       "0  jpg/image_04467.jpg     89      True        canna lily\n",
       "1  jpg/image_07129.jpg     44      True  bolero deep blue\n",
       "2  jpg/image_05166.jpg      4      True  english marigold\n",
       "3  jpg/image_07002.jpg     34      True  alpine sea holly\n",
       "4  jpg/image_02007.jpg     79      True         anthurium"
      ]
     },
     "execution_count": 15,
     "metadata": {},
     "output_type": "execute_result"
    }
   ],
   "source": [
    "df_v = pd.read_csv(f'{path}/valid.txt',sep=' ',names = ['fname','index'])\n",
    "df_v['is_valid'] = True\n",
    "df_v['label'] = df_v['index'].map(flower_index_dict)\n",
    "print(df_v.shape)\n",
    "\n",
    "df_v.head()"
   ]
  },
  {
   "cell_type": "code",
   "execution_count": 16,
   "id": "dcf986bb-0d41-4276-99c6-1fe57abf96de",
   "metadata": {},
   "outputs": [
    {
     "data": {
      "text/html": [
       "<div>\n",
       "<style scoped>\n",
       "    .dataframe tbody tr th:only-of-type {\n",
       "        vertical-align: middle;\n",
       "    }\n",
       "\n",
       "    .dataframe tbody tr th {\n",
       "        vertical-align: top;\n",
       "    }\n",
       "\n",
       "    .dataframe thead th {\n",
       "        text-align: right;\n",
       "    }\n",
       "</style>\n",
       "<table border=\"1\" class=\"dataframe\">\n",
       "  <thead>\n",
       "    <tr style=\"text-align: right;\">\n",
       "      <th></th>\n",
       "      <th>fname</th>\n",
       "      <th>index</th>\n",
       "      <th>is_valid</th>\n",
       "      <th>label</th>\n",
       "    </tr>\n",
       "  </thead>\n",
       "  <tbody>\n",
       "    <tr>\n",
       "      <th>0</th>\n",
       "      <td>/Users/bashaar/.fastai/data/oxford-102-flowers/jpg/image_03860.jpg</td>\n",
       "      <td>16</td>\n",
       "      <td>False</td>\n",
       "      <td>purple coneflower</td>\n",
       "    </tr>\n",
       "    <tr>\n",
       "      <th>1</th>\n",
       "      <td>/Users/bashaar/.fastai/data/oxford-102-flowers/jpg/image_06092.jpg</td>\n",
       "      <td>13</td>\n",
       "      <td>False</td>\n",
       "      <td>spear thistle</td>\n",
       "    </tr>\n",
       "    <tr>\n",
       "      <th>2</th>\n",
       "      <td>/Users/bashaar/.fastai/data/oxford-102-flowers/jpg/image_02400.jpg</td>\n",
       "      <td>42</td>\n",
       "      <td>False</td>\n",
       "      <td>sword lily</td>\n",
       "    </tr>\n",
       "    <tr>\n",
       "      <th>3</th>\n",
       "      <td>/Users/bashaar/.fastai/data/oxford-102-flowers/jpg/image_02852.jpg</td>\n",
       "      <td>55</td>\n",
       "      <td>False</td>\n",
       "      <td>bishop of llandaff</td>\n",
       "    </tr>\n",
       "    <tr>\n",
       "      <th>4</th>\n",
       "      <td>/Users/bashaar/.fastai/data/oxford-102-flowers/jpg/image_07710.jpg</td>\n",
       "      <td>96</td>\n",
       "      <td>False</td>\n",
       "      <td>mallow</td>\n",
       "    </tr>\n",
       "  </tbody>\n",
       "</table>\n",
       "</div>"
      ],
      "text/plain": [
       "                                                                fname  index  \\\n",
       "0  /Users/bashaar/.fastai/data/oxford-102-flowers/jpg/image_03860.jpg     16   \n",
       "1  /Users/bashaar/.fastai/data/oxford-102-flowers/jpg/image_06092.jpg     13   \n",
       "2  /Users/bashaar/.fastai/data/oxford-102-flowers/jpg/image_02400.jpg     42   \n",
       "3  /Users/bashaar/.fastai/data/oxford-102-flowers/jpg/image_02852.jpg     55   \n",
       "4  /Users/bashaar/.fastai/data/oxford-102-flowers/jpg/image_07710.jpg     96   \n",
       "\n",
       "   is_valid               label  \n",
       "0     False   purple coneflower  \n",
       "1     False       spear thistle  \n",
       "2     False          sword lily  \n",
       "3     False  bishop of llandaff  \n",
       "4     False              mallow  "
      ]
     },
     "execution_count": 16,
     "metadata": {},
     "output_type": "execute_result"
    }
   ],
   "source": [
    "df = pd.concat([df,df_v])\n",
    "df.fname = df.fname.apply(lambda x:f'{path}/{x}')\n",
    "df.head()"
   ]
  },
  {
   "cell_type": "code",
   "execution_count": 17,
   "id": "3d77265e-b401-4a4e-bfa7-aa20b91aa968",
   "metadata": {},
   "outputs": [],
   "source": [
    "item_tfms = [RandomResizedCrop(500,min_scale=0.75, ratio=(1.,1.))]"
   ]
  },
  {
   "cell_type": "code",
   "execution_count": 18,
   "id": "741a03bb-1071-448e-b55b-4d97c3330bf6",
   "metadata": {},
   "outputs": [
    {
     "ename": "RuntimeError",
     "evalue": "The MPS backend is supported on MacOS 12.3+.Current OS version can be queried using `sw_vers`",
     "output_type": "error",
     "traceback": [
      "\u001b[0;31m---------------------------------------------------------------------------\u001b[0m",
      "\u001b[0;31mRuntimeError\u001b[0m                              Traceback (most recent call last)",
      "Cell \u001b[0;32mIn[18], line 1\u001b[0m\n\u001b[0;32m----> 1\u001b[0m batch_tfms \u001b[38;5;241m=\u001b[39m [\u001b[38;5;241m*\u001b[39maug_transforms(size\u001b[38;5;241m=\u001b[39m\u001b[38;5;241m244\u001b[39m),\u001b[43mNormalize\u001b[49m\u001b[38;5;241;43m.\u001b[39;49m\u001b[43mfrom_stats\u001b[49m\u001b[43m(\u001b[49m\u001b[38;5;241;43m*\u001b[39;49m\u001b[43mimagenet_stats\u001b[49m\u001b[43m)\u001b[49m]\n",
      "File \u001b[0;32m/usr/local/Cellar/jupyterlab/4.1.6_1/libexec/lib/python3.12/site-packages/fastai/data/transforms.py:370\u001b[0m, in \u001b[0;36mNormalize.from_stats\u001b[0;34m(cls, mean, std, dim, ndim, cuda)\u001b[0m\n\u001b[1;32m    369\u001b[0m \u001b[38;5;129m@classmethod\u001b[39m\n\u001b[0;32m--> 370\u001b[0m \u001b[38;5;28;01mdef\u001b[39;00m \u001b[38;5;21mfrom_stats\u001b[39m(\u001b[38;5;28mcls\u001b[39m, mean, std, dim\u001b[38;5;241m=\u001b[39m\u001b[38;5;241m1\u001b[39m, ndim\u001b[38;5;241m=\u001b[39m\u001b[38;5;241m4\u001b[39m, cuda\u001b[38;5;241m=\u001b[39m\u001b[38;5;28;01mTrue\u001b[39;00m): \u001b[38;5;28;01mreturn\u001b[39;00m \u001b[38;5;28mcls\u001b[39m(\u001b[38;5;241m*\u001b[39m\u001b[43mbroadcast_vec\u001b[49m\u001b[43m(\u001b[49m\u001b[43mdim\u001b[49m\u001b[43m,\u001b[49m\u001b[43m \u001b[49m\u001b[43mndim\u001b[49m\u001b[43m,\u001b[49m\u001b[43m \u001b[49m\u001b[43mmean\u001b[49m\u001b[43m,\u001b[49m\u001b[43m \u001b[49m\u001b[43mstd\u001b[49m\u001b[43m,\u001b[49m\u001b[43m \u001b[49m\u001b[43mcuda\u001b[49m\u001b[38;5;241;43m=\u001b[39;49m\u001b[43mcuda\u001b[49m\u001b[43m)\u001b[49m)\n",
      "File \u001b[0;32m/usr/local/Cellar/jupyterlab/4.1.6_1/libexec/lib/python3.12/site-packages/fastai/data/transforms.py:360\u001b[0m, in \u001b[0;36mbroadcast_vec\u001b[0;34m(dim, ndim, cuda, *t)\u001b[0m\n\u001b[1;32m    358\u001b[0m v[dim] \u001b[38;5;241m=\u001b[39m \u001b[38;5;241m-\u001b[39m\u001b[38;5;241m1\u001b[39m\n\u001b[1;32m    359\u001b[0m f \u001b[38;5;241m=\u001b[39m to_device \u001b[38;5;28;01mif\u001b[39;00m cuda \u001b[38;5;28;01melse\u001b[39;00m noop\n\u001b[0;32m--> 360\u001b[0m \u001b[38;5;28;01mreturn\u001b[39;00m [\u001b[43mf\u001b[49m\u001b[43m(\u001b[49m\u001b[43mtensor\u001b[49m\u001b[43m(\u001b[49m\u001b[43mo\u001b[49m\u001b[43m)\u001b[49m\u001b[38;5;241;43m.\u001b[39;49m\u001b[43mview\u001b[49m\u001b[43m(\u001b[49m\u001b[38;5;241;43m*\u001b[39;49m\u001b[43mv\u001b[49m\u001b[43m)\u001b[49m\u001b[43m)\u001b[49m \u001b[38;5;28;01mfor\u001b[39;00m o \u001b[38;5;129;01min\u001b[39;00m t]\n",
      "File \u001b[0;32m/usr/local/Cellar/jupyterlab/4.1.6_1/libexec/lib/python3.12/site-packages/fastai/torch_core.py:285\u001b[0m, in \u001b[0;36mto_device\u001b[0;34m(b, device, non_blocking)\u001b[0m\n\u001b[1;32m    283\u001b[0m     \u001b[38;5;28;01mif\u001b[39;00m \u001b[38;5;28misinstance\u001b[39m(o,Tensor): \u001b[38;5;28;01mreturn\u001b[39;00m o\u001b[38;5;241m.\u001b[39mto(device, non_blocking\u001b[38;5;241m=\u001b[39mnon_blocking)\n\u001b[1;32m    284\u001b[0m     \u001b[38;5;28;01mreturn\u001b[39;00m o\n\u001b[0;32m--> 285\u001b[0m \u001b[38;5;28;01mreturn\u001b[39;00m \u001b[43mapply\u001b[49m\u001b[43m(\u001b[49m\u001b[43m_inner\u001b[49m\u001b[43m,\u001b[49m\u001b[43m \u001b[49m\u001b[43mb\u001b[49m\u001b[43m)\u001b[49m\n",
      "File \u001b[0;32m/usr/local/Cellar/jupyterlab/4.1.6_1/libexec/lib/python3.12/site-packages/fastai/torch_core.py:224\u001b[0m, in \u001b[0;36mapply\u001b[0;34m(func, x, *args, **kwargs)\u001b[0m\n\u001b[1;32m    222\u001b[0m \u001b[38;5;28;01mif\u001b[39;00m is_listy(x): \u001b[38;5;28;01mreturn\u001b[39;00m \u001b[38;5;28mtype\u001b[39m(x)([apply(func, o, \u001b[38;5;241m*\u001b[39margs, \u001b[38;5;241m*\u001b[39m\u001b[38;5;241m*\u001b[39mkwargs) \u001b[38;5;28;01mfor\u001b[39;00m o \u001b[38;5;129;01min\u001b[39;00m x])\n\u001b[1;32m    223\u001b[0m \u001b[38;5;28;01mif\u001b[39;00m \u001b[38;5;28misinstance\u001b[39m(x,(\u001b[38;5;28mdict\u001b[39m,MutableMapping)): \u001b[38;5;28;01mreturn\u001b[39;00m {k: apply(func, v, \u001b[38;5;241m*\u001b[39margs, \u001b[38;5;241m*\u001b[39m\u001b[38;5;241m*\u001b[39mkwargs) \u001b[38;5;28;01mfor\u001b[39;00m k,v \u001b[38;5;129;01min\u001b[39;00m x\u001b[38;5;241m.\u001b[39mitems()}\n\u001b[0;32m--> 224\u001b[0m res \u001b[38;5;241m=\u001b[39m \u001b[43mfunc\u001b[49m\u001b[43m(\u001b[49m\u001b[43mx\u001b[49m\u001b[43m,\u001b[49m\u001b[43m \u001b[49m\u001b[38;5;241;43m*\u001b[39;49m\u001b[43margs\u001b[49m\u001b[43m,\u001b[49m\u001b[43m \u001b[49m\u001b[38;5;241;43m*\u001b[39;49m\u001b[38;5;241;43m*\u001b[39;49m\u001b[43mkwargs\u001b[49m\u001b[43m)\u001b[49m\n\u001b[1;32m    225\u001b[0m \u001b[38;5;28;01mreturn\u001b[39;00m res \u001b[38;5;28;01mif\u001b[39;00m x \u001b[38;5;129;01mis\u001b[39;00m \u001b[38;5;28;01mNone\u001b[39;00m \u001b[38;5;28;01melse\u001b[39;00m retain_type(res, x)\n",
      "File \u001b[0;32m/usr/local/Cellar/jupyterlab/4.1.6_1/libexec/lib/python3.12/site-packages/fastai/torch_core.py:283\u001b[0m, in \u001b[0;36mto_device.<locals>._inner\u001b[0;34m(o)\u001b[0m\n\u001b[1;32m    281\u001b[0m \u001b[38;5;28;01mdef\u001b[39;00m \u001b[38;5;21m_inner\u001b[39m(o):\n\u001b[1;32m    282\u001b[0m     \u001b[38;5;66;03m# ToDo: add TensorDict when released\u001b[39;00m\n\u001b[0;32m--> 283\u001b[0m     \u001b[38;5;28;01mif\u001b[39;00m \u001b[38;5;28misinstance\u001b[39m(o,Tensor): \u001b[38;5;28;01mreturn\u001b[39;00m \u001b[43mo\u001b[49m\u001b[38;5;241;43m.\u001b[39;49m\u001b[43mto\u001b[49m\u001b[43m(\u001b[49m\u001b[43mdevice\u001b[49m\u001b[43m,\u001b[49m\u001b[43m \u001b[49m\u001b[43mnon_blocking\u001b[49m\u001b[38;5;241;43m=\u001b[39;49m\u001b[43mnon_blocking\u001b[49m\u001b[43m)\u001b[49m\n\u001b[1;32m    284\u001b[0m     \u001b[38;5;28;01mreturn\u001b[39;00m o\n",
      "\u001b[0;31mRuntimeError\u001b[0m: The MPS backend is supported on MacOS 12.3+.Current OS version can be queried using `sw_vers`"
     ]
    }
   ],
   "source": [
    "batch_tfms = [*aug_transforms(size=244),Normalize.from_stats(*imagenet_stats)]"
   ]
  },
  {
   "cell_type": "code",
   "execution_count": 10,
   "id": "f4ca9871-cca0-4568-aa89-256964e38b2f",
   "metadata": {},
   "outputs": [
    {
     "ename": "NameError",
     "evalue": "name 'batch_tfms' is not defined",
     "output_type": "error",
     "traceback": [
      "\u001b[0;31m---------------------------------------------------------------------------\u001b[0m",
      "\u001b[0;31mNameError\u001b[0m                                 Traceback (most recent call last)",
      "Cell \u001b[0;32mIn[10], line 5\u001b[0m\n\u001b[1;32m      1\u001b[0m dblock \u001b[38;5;241m=\u001b[39m DataBlock((ImageBlock,CategoryBlock),\n\u001b[1;32m      2\u001b[0m                    get_x\u001b[38;5;241m=\u001b[39mColReader(\u001b[38;5;124m'\u001b[39m\u001b[38;5;124mfname\u001b[39m\u001b[38;5;124m'\u001b[39m),\n\u001b[1;32m      3\u001b[0m                    get_y \u001b[38;5;241m=\u001b[39m ColReader(\u001b[38;5;124m'\u001b[39m\u001b[38;5;124mlabel\u001b[39m\u001b[38;5;124m'\u001b[39m),\n\u001b[1;32m      4\u001b[0m                    item_tfms \u001b[38;5;241m=\u001b[39m item_tfms,\n\u001b[0;32m----> 5\u001b[0m                    batch_tfms\u001b[38;5;241m=\u001b[39m \u001b[43mbatch_tfms\u001b[49m,\n\u001b[1;32m      6\u001b[0m                    splitter\u001b[38;5;241m=\u001b[39mColSplitter()                  \n\u001b[1;32m      7\u001b[0m                   )\n",
      "\u001b[0;31mNameError\u001b[0m: name 'batch_tfms' is not defined"
     ]
    }
   ],
   "source": [
    "dblock = DataBlock((ImageBlock,CategoryBlock),\n",
    "                   get_x=ColReader('fname'),\n",
    "                   get_y = ColReader('label'),\n",
    "                   item_tfms = item_tfms,\n",
    "                   batch_tfms= batch_tfms,\n",
    "                   splitter=ColSplitter()                  \n",
    "                  )"
   ]
  },
  {
   "cell_type": "code",
   "execution_count": null,
   "id": "943a2320-e4ec-4ac3-a3c1-51c9d804c760",
   "metadata": {},
   "outputs": [],
   "source": []
  }
 ],
 "metadata": {
  "kernelspec": {
   "display_name": "Python 3 (ipykernel)",
   "language": "python",
   "name": "python3"
  },
  "language_info": {
   "codemirror_mode": {
    "name": "ipython",
    "version": 3
   },
   "file_extension": ".py",
   "mimetype": "text/x-python",
   "name": "python",
   "nbconvert_exporter": "python",
   "pygments_lexer": "ipython3",
   "version": "3.12.3"
  }
 },
 "nbformat": 4,
 "nbformat_minor": 5
}
